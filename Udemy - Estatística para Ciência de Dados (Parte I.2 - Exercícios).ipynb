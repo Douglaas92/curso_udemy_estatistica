{
 "cells": [
  {
   "cell_type": "markdown",
   "id": "8cef1307",
   "metadata": {},
   "source": [
    "# Exercício da Parte I do curso de estatística para Ciência de Dados (Udemy)\n",
    "\n",
    "*Olá, o objetivo deste exercício é utilizar outra base de dados para testar as amostragens e comparar os resultados:*\n",
    "\n",
    "- *Faça o download e carregue a base de dados credit_data.csv, que possui informações sobre empréstimos (se o cliente pagará ou não pagará o empréstimo)*\n",
    "- *Teste cada uma das técnicas de amostragem, selecionando 1000 registros*\n",
    "- *Para a amostragem estratificada, utilize o atributo c#default para separar as categorias*\n",
    "- *No final, faça o comparativo da média utilizando os atributos age, income e loan*"
   ]
  },
  {
   "cell_type": "code",
   "execution_count": 37,
   "id": "6f95fd18",
   "metadata": {},
   "outputs": [],
   "source": [
    "import pandas as pd\n",
    "import numpy as np"
   ]
  },
  {
   "cell_type": "code",
   "execution_count": 38,
   "id": "ad0dc410",
   "metadata": {},
   "outputs": [
    {
     "data": {
      "text/plain": [
       "(2000, 5)"
      ]
     },
     "execution_count": 38,
     "metadata": {},
     "output_type": "execute_result"
    }
   ],
   "source": [
    "dataset = pd.read_csv('credit_data.csv')\n",
    "dataset.shape"
   ]
  },
  {
   "cell_type": "code",
   "execution_count": 39,
   "id": "666b8754",
   "metadata": {},
   "outputs": [
    {
     "data": {
      "text/html": [
       "<div>\n",
       "<style scoped>\n",
       "    .dataframe tbody tr th:only-of-type {\n",
       "        vertical-align: middle;\n",
       "    }\n",
       "\n",
       "    .dataframe tbody tr th {\n",
       "        vertical-align: top;\n",
       "    }\n",
       "\n",
       "    .dataframe thead th {\n",
       "        text-align: right;\n",
       "    }\n",
       "</style>\n",
       "<table border=\"1\" class=\"dataframe\">\n",
       "  <thead>\n",
       "    <tr style=\"text-align: right;\">\n",
       "      <th></th>\n",
       "      <th>i#clientid</th>\n",
       "      <th>income</th>\n",
       "      <th>age</th>\n",
       "      <th>loan</th>\n",
       "      <th>c#default</th>\n",
       "    </tr>\n",
       "  </thead>\n",
       "  <tbody>\n",
       "    <tr>\n",
       "      <th>0</th>\n",
       "      <td>1</td>\n",
       "      <td>66155.925095</td>\n",
       "      <td>59.017015</td>\n",
       "      <td>8106.532131</td>\n",
       "      <td>0</td>\n",
       "    </tr>\n",
       "    <tr>\n",
       "      <th>1</th>\n",
       "      <td>2</td>\n",
       "      <td>34415.153966</td>\n",
       "      <td>48.117153</td>\n",
       "      <td>6564.745018</td>\n",
       "      <td>0</td>\n",
       "    </tr>\n",
       "    <tr>\n",
       "      <th>2</th>\n",
       "      <td>3</td>\n",
       "      <td>57317.170063</td>\n",
       "      <td>63.108049</td>\n",
       "      <td>8020.953296</td>\n",
       "      <td>0</td>\n",
       "    </tr>\n",
       "    <tr>\n",
       "      <th>3</th>\n",
       "      <td>4</td>\n",
       "      <td>42709.534201</td>\n",
       "      <td>45.751972</td>\n",
       "      <td>6103.642260</td>\n",
       "      <td>0</td>\n",
       "    </tr>\n",
       "    <tr>\n",
       "      <th>4</th>\n",
       "      <td>5</td>\n",
       "      <td>66952.688845</td>\n",
       "      <td>18.584336</td>\n",
       "      <td>8770.099235</td>\n",
       "      <td>1</td>\n",
       "    </tr>\n",
       "  </tbody>\n",
       "</table>\n",
       "</div>"
      ],
      "text/plain": [
       "   i#clientid        income        age         loan  c#default\n",
       "0           1  66155.925095  59.017015  8106.532131          0\n",
       "1           2  34415.153966  48.117153  6564.745018          0\n",
       "2           3  57317.170063  63.108049  8020.953296          0\n",
       "3           4  42709.534201  45.751972  6103.642260          0\n",
       "4           5  66952.688845  18.584336  8770.099235          1"
      ]
     },
     "execution_count": 39,
     "metadata": {},
     "output_type": "execute_result"
    }
   ],
   "source": [
    "dataset.head()"
   ]
  },
  {
   "cell_type": "code",
   "execution_count": 43,
   "id": "cbb90fd4",
   "metadata": {},
   "outputs": [
    {
     "name": "stdout",
     "output_type": "stream",
     "text": [
      "<class 'pandas.core.frame.DataFrame'>\n",
      "RangeIndex: 2000 entries, 0 to 1999\n",
      "Data columns (total 5 columns):\n",
      " #   Column      Non-Null Count  Dtype  \n",
      "---  ------      --------------  -----  \n",
      " 0   i#clientid  2000 non-null   int64  \n",
      " 1   income      2000 non-null   float64\n",
      " 2   age         1997 non-null   float64\n",
      " 3   loan        2000 non-null   float64\n",
      " 4   c#default   2000 non-null   int64  \n",
      "dtypes: float64(3), int64(2)\n",
      "memory usage: 78.2 KB\n"
     ]
    }
   ],
   "source": [
    "dataset.info()"
   ]
  },
  {
   "cell_type": "code",
   "execution_count": 44,
   "id": "7dad3831",
   "metadata": {},
   "outputs": [
    {
     "data": {
      "text/plain": [
       "False    1997\n",
       "True        3\n",
       "Name: age, dtype: int64"
      ]
     },
     "execution_count": 44,
     "metadata": {},
     "output_type": "execute_result"
    }
   ],
   "source": [
    "dataset['age'].isnull().value_counts()"
   ]
  },
  {
   "cell_type": "code",
   "execution_count": 45,
   "id": "dc548988",
   "metadata": {},
   "outputs": [
    {
     "data": {
      "text/plain": [
       "40.80755937840458"
      ]
     },
     "execution_count": 45,
     "metadata": {},
     "output_type": "execute_result"
    }
   ],
   "source": [
    "media_idade = dataset['age'].mean()\n",
    "media_idade"
   ]
  },
  {
   "cell_type": "code",
   "execution_count": 46,
   "id": "c2288b46",
   "metadata": {},
   "outputs": [
    {
     "data": {
      "text/plain": [
       "False    2000\n",
       "Name: age, dtype: int64"
      ]
     },
     "execution_count": 46,
     "metadata": {},
     "output_type": "execute_result"
    }
   ],
   "source": [
    "dataset['age'].fillna(media_idade, inplace=True)\n",
    "dataset['age'].isnull().value_counts()"
   ]
  },
  {
   "cell_type": "code",
   "execution_count": 47,
   "id": "cd817bca",
   "metadata": {},
   "outputs": [
    {
     "data": {
      "text/plain": [
       "40.80755937840458"
      ]
     },
     "execution_count": 47,
     "metadata": {},
     "output_type": "execute_result"
    }
   ],
   "source": [
    "media_idade"
   ]
  },
  {
   "cell_type": "code",
   "execution_count": 48,
   "id": "32aec631",
   "metadata": {},
   "outputs": [
    {
     "name": "stdout",
     "output_type": "stream",
     "text": [
      "<class 'pandas.core.frame.DataFrame'>\n",
      "RangeIndex: 2000 entries, 0 to 1999\n",
      "Data columns (total 5 columns):\n",
      " #   Column      Non-Null Count  Dtype  \n",
      "---  ------      --------------  -----  \n",
      " 0   i#clientid  2000 non-null   int64  \n",
      " 1   income      2000 non-null   float64\n",
      " 2   age         2000 non-null   float64\n",
      " 3   loan        2000 non-null   float64\n",
      " 4   c#default   2000 non-null   int64  \n",
      "dtypes: float64(3), int64(2)\n",
      "memory usage: 78.2 KB\n"
     ]
    }
   ],
   "source": [
    "dataset.info()"
   ]
  },
  {
   "cell_type": "markdown",
   "id": "0ba41586",
   "metadata": {},
   "source": [
    "### Usando amostragem aleatória simples"
   ]
  },
  {
   "cell_type": "code",
   "execution_count": 127,
   "id": "ac1d919d",
   "metadata": {},
   "outputs": [],
   "source": [
    "import random"
   ]
  },
  {
   "cell_type": "code",
   "execution_count": 128,
   "id": "f92b54dd",
   "metadata": {},
   "outputs": [],
   "source": [
    "def amostragem_aleatorica_simples(dataset, amostras):\n",
    "    return dataset.sample(n = amostras, random_state=42)"
   ]
  },
  {
   "cell_type": "code",
   "execution_count": 129,
   "id": "64cebdd9",
   "metadata": {},
   "outputs": [
    {
     "data": {
      "text/plain": [
       "(1000, 6)"
      ]
     },
     "execution_count": 129,
     "metadata": {},
     "output_type": "execute_result"
    }
   ],
   "source": [
    "df_amostra_aleatoria_simples = amostragem_aleatorica_simples(dataset, 1000)\n",
    "df_amostra_aleatoria_simples.shape"
   ]
  },
  {
   "cell_type": "code",
   "execution_count": 130,
   "id": "a46187c5",
   "metadata": {},
   "outputs": [
    {
     "data": {
      "text/plain": [
       "40.55126822154169"
      ]
     },
     "execution_count": 130,
     "metadata": {},
     "output_type": "execute_result"
    }
   ],
   "source": [
    "df_amostra_aleatoria_simples['age'].mean()"
   ]
  },
  {
   "cell_type": "code",
   "execution_count": 131,
   "id": "065ea044",
   "metadata": {},
   "outputs": [
    {
     "data": {
      "text/plain": [
       "45703.01892576971"
      ]
     },
     "execution_count": 131,
     "metadata": {},
     "output_type": "execute_result"
    }
   ],
   "source": [
    "df_amostra_aleatoria_simples['income'].mean()"
   ]
  },
  {
   "cell_type": "code",
   "execution_count": 132,
   "id": "8dc6e04f",
   "metadata": {},
   "outputs": [
    {
     "data": {
      "text/plain": [
       "4498.38878999269"
      ]
     },
     "execution_count": 132,
     "metadata": {},
     "output_type": "execute_result"
    }
   ],
   "source": [
    "df_amostra_aleatoria_simples['loan'].mean()"
   ]
  },
  {
   "cell_type": "markdown",
   "id": "96ff59ef",
   "metadata": {},
   "source": [
    "### Usando amostragem aleatória sistemática"
   ]
  },
  {
   "cell_type": "code",
   "execution_count": 133,
   "id": "3712de69",
   "metadata": {},
   "outputs": [],
   "source": [
    "def amostragem_sistematica(dataset, amostras):\n",
    "    intervalo = len(dataset) // amostras\n",
    "    random.seed(42)\n",
    "    inicio= random.randint(0,intervalo)\n",
    "    indices = np.arange(inicio, len(dataset), step=intervalo)\n",
    "    amostra_sistematica = dataset.iloc[indices]\n",
    "    return amostra_sistematica"
   ]
  },
  {
   "cell_type": "code",
   "execution_count": 134,
   "id": "ee96b929",
   "metadata": {},
   "outputs": [
    {
     "data": {
      "text/plain": [
       "(999, 6)"
      ]
     },
     "execution_count": 134,
     "metadata": {},
     "output_type": "execute_result"
    }
   ],
   "source": [
    "df_amostra_sistematica = amostragem_sistematica(dataset, 1000)\n",
    "df_amostra_sistematica.shape"
   ]
  },
  {
   "cell_type": "code",
   "execution_count": 156,
   "id": "ab4829a1",
   "metadata": {},
   "outputs": [
    {
     "data": {
      "text/plain": [
       "40.892842409894484"
      ]
     },
     "execution_count": 156,
     "metadata": {},
     "output_type": "execute_result"
    }
   ],
   "source": [
    "df_amostra_sistematica['age'].mean()"
   ]
  },
  {
   "cell_type": "code",
   "execution_count": 157,
   "id": "5ab58e9e",
   "metadata": {},
   "outputs": [
    {
     "data": {
      "text/plain": [
       "45671.013839413754"
      ]
     },
     "execution_count": 157,
     "metadata": {},
     "output_type": "execute_result"
    }
   ],
   "source": [
    "df_amostra_sistematica['income'].mean()"
   ]
  },
  {
   "cell_type": "code",
   "execution_count": 158,
   "id": "9eec5c44",
   "metadata": {},
   "outputs": [
    {
     "data": {
      "text/plain": [
       "4503.184628923969"
      ]
     },
     "execution_count": 158,
     "metadata": {},
     "output_type": "execute_result"
    }
   ],
   "source": [
    "df_amostra_sistematica['loan'].mean()"
   ]
  },
  {
   "cell_type": "markdown",
   "id": "a5f4f8b5",
   "metadata": {},
   "source": [
    "### Usando amostragem aleatória por grupo"
   ]
  },
  {
   "cell_type": "code",
   "execution_count": 174,
   "id": "205c2e22",
   "metadata": {},
   "outputs": [],
   "source": [
    "def amostragem_agrupamento(dataset, numero_grupos):\n",
    "    intervalo = len(dataset)/numero_grupos\n",
    "    \n",
    "    grupos = []\n",
    "    id_grupo = 0\n",
    "    contagem = 0\n",
    "    for _ in dataset.iterrows():\n",
    "        grupos.append(id_grupo)\n",
    "        contagem +=1\n",
    "        if contagem > intervalo:\n",
    "            contagem = 0\n",
    "            id_grupo += 1\n",
    "            \n",
    "    dataset['grupo'] = grupos\n",
    "    random.seed(1)\n",
    "    grupo_selecionado = random.randint(0, numero_grupos)\n",
    "    return dataset[dataset['grupo'] == grupo_selecionado]"
   ]
  },
  {
   "cell_type": "code",
   "execution_count": 181,
   "id": "3b5888a2",
   "metadata": {},
   "outputs": [
    {
     "data": {
      "text/plain": [
       "((1001, 6),\n",
       " 0    1001\n",
       " Name: grupo, dtype: int64)"
      ]
     },
     "execution_count": 181,
     "metadata": {},
     "output_type": "execute_result"
    }
   ],
   "source": [
    "df_amostra_agrupamento = amostragem_agrupamento(dataset, 2)\n",
    "df_amostra_agrupamento.shape, df_amostra_agrupamento['grupo'].value_counts()"
   ]
  },
  {
   "cell_type": "code",
   "execution_count": 176,
   "id": "fd888427",
   "metadata": {},
   "outputs": [
    {
     "data": {
      "text/plain": [
       "41.04251682713428"
      ]
     },
     "execution_count": 176,
     "metadata": {},
     "output_type": "execute_result"
    }
   ],
   "source": [
    "df_amostra_agrupamento['age'].mean()"
   ]
  },
  {
   "cell_type": "code",
   "execution_count": 177,
   "id": "516a2e1a",
   "metadata": {},
   "outputs": [
    {
     "data": {
      "text/plain": [
       "44846.74925986141"
      ]
     },
     "execution_count": 177,
     "metadata": {},
     "output_type": "execute_result"
    }
   ],
   "source": [
    "df_amostra_agrupamento['income'].mean()"
   ]
  },
  {
   "cell_type": "code",
   "execution_count": 178,
   "id": "ab48b353",
   "metadata": {},
   "outputs": [
    {
     "data": {
      "text/plain": [
       "4390.161493744205"
      ]
     },
     "execution_count": 178,
     "metadata": {},
     "output_type": "execute_result"
    }
   ],
   "source": [
    "df_amostra_agrupamento['loan'].mean()"
   ]
  },
  {
   "cell_type": "markdown",
   "id": "9f1ad15e",
   "metadata": {},
   "source": [
    "### Usando amostragem estratificada"
   ]
  },
  {
   "cell_type": "code",
   "execution_count": 105,
   "id": "2cd2752d",
   "metadata": {},
   "outputs": [],
   "source": [
    "from sklearn.model_selection import StratifiedShuffleSplit"
   ]
  },
  {
   "cell_type": "code",
   "execution_count": 143,
   "id": "7ff01c09",
   "metadata": {},
   "outputs": [],
   "source": [
    "def amostragem_estratificada(dataset, amostra, variavel):\n",
    "    percentual = amostra / len(dataset)\n",
    "    split = StratifiedShuffleSplit(test_size=percentual, random_state=42)\n",
    "    for _, y in split.split(dataset, dataset[variavel]):        \n",
    "        df_y = dataset.iloc[y]            \n",
    "    return df_y"
   ]
  },
  {
   "cell_type": "code",
   "execution_count": 144,
   "id": "56f98720",
   "metadata": {},
   "outputs": [
    {
     "data": {
      "text/plain": [
       "0    0.858\n",
       "1    0.142\n",
       "Name: c#default, dtype: float64"
      ]
     },
     "execution_count": 144,
     "metadata": {},
     "output_type": "execute_result"
    }
   ],
   "source": [
    "df_amostra_estratificada = amostragem_estratificada(dataset, 1000, 'c#default')\n",
    "df_amostra_estratificada['c#default'].value_counts(normalize=True).round(4)"
   ]
  },
  {
   "cell_type": "code",
   "execution_count": 145,
   "id": "92b0dacd",
   "metadata": {},
   "outputs": [
    {
     "data": {
      "text/plain": [
       "40.249628931841265"
      ]
     },
     "execution_count": 145,
     "metadata": {},
     "output_type": "execute_result"
    }
   ],
   "source": [
    "df_amostra_estratificada['age'].mean()"
   ]
  },
  {
   "cell_type": "code",
   "execution_count": 146,
   "id": "8d565330",
   "metadata": {},
   "outputs": [
    {
     "data": {
      "text/plain": [
       "45058.05344115943"
      ]
     },
     "execution_count": 146,
     "metadata": {},
     "output_type": "execute_result"
    }
   ],
   "source": [
    "df_amostra_estratificada['income'].mean()"
   ]
  },
  {
   "cell_type": "code",
   "execution_count": 147,
   "id": "d8dbde6b",
   "metadata": {},
   "outputs": [
    {
     "data": {
      "text/plain": [
       "4426.26764870883"
      ]
     },
     "execution_count": 147,
     "metadata": {},
     "output_type": "execute_result"
    }
   ],
   "source": [
    "df_amostra_estratificada['loan'].mean()"
   ]
  },
  {
   "cell_type": "markdown",
   "id": "65417e33",
   "metadata": {},
   "source": [
    "### Usando amostragem de reservatório"
   ]
  },
  {
   "cell_type": "code",
   "execution_count": 148,
   "id": "5ff6f8bd",
   "metadata": {},
   "outputs": [],
   "source": [
    "def amostragem_reservatorio(dataset, amostras):\n",
    "    stream = [] #cria uma lista vazia\n",
    "    for i in range(len(dataset)): #na sequência cria um range de valores para preenchimento da lista\n",
    "        stream.append(i) #o conjunto final fica [0, 1, 2, 3, 4, 5, 6, 7, 8, 9]\n",
    "        \n",
    "    i=0\n",
    "    tamanho = len(dataset) #cria uma variável tamanho, com o tamanho total de itens do dataset\n",
    "    \n",
    "    reservatorio = [0] * amostras #cria um conjunto inicial de amostras, por exemplo, 3 amostras, o conjunto seria [0,0,0]\n",
    "    for i in range(amostras): #cria um range com o tamanho da amostra para preenchimento dos valores dessa lista\n",
    "        reservatorio[i] = stream[i] #há um cruzamento das informações, com base nas listas RESERVATORIO e STREAM\n",
    "        #Por exemplo, no item 0 a posição 0 da lista reservatório receberá o valor que consta na posição 0 da lista stream\n",
    "    \n",
    "    while i < tamanho: #loop para verificar se o i é menor que o tamanho do dataset\n",
    "        j = random.randrange(i + 1) #no mesmo sentido de cruzamento das informações, o J será um valor randômico entre o valor de i + 1\n",
    "        if j < amostras: #a partir do valor randômico gerado, há um if para verificar se esse valor é menor que a amostra\n",
    "            reservatorio[j] = stream[i] #há novamente um cruzamento das informações, com base nas listas RESERVATORIO e STREAM, no entanto, agora os parâmetros são J e I        \n",
    "        i += 1 #há um incremento no valor de i\n",
    "    \n",
    "    return dataset.iloc[reservatorio] #quando o looping encerrar com o tamanho das amostras, a função retorna o dataset, filtrando o índice/index.\n",
    "                                      #o filtro é feito com o método iloc e como parâmetro a lista 'reservatorio', para pegar somente as linhas da amostra realizada"
   ]
  },
  {
   "cell_type": "code",
   "execution_count": 149,
   "id": "836c61be",
   "metadata": {},
   "outputs": [
    {
     "data": {
      "text/plain": [
       "(1000, 6)"
      ]
     },
     "execution_count": 149,
     "metadata": {},
     "output_type": "execute_result"
    }
   ],
   "source": [
    "df_amostragem_reservatorio = amostragem_reservatorio(dataset, 1000)\n",
    "df_amostragem_reservatorio.shape"
   ]
  },
  {
   "cell_type": "code",
   "execution_count": 150,
   "id": "4aa35a91",
   "metadata": {},
   "outputs": [
    {
     "data": {
      "text/plain": [
       "40.84483078816575"
      ]
     },
     "execution_count": 150,
     "metadata": {},
     "output_type": "execute_result"
    }
   ],
   "source": [
    "df_amostragem_reservatorio['age'].mean()"
   ]
  },
  {
   "cell_type": "code",
   "execution_count": 151,
   "id": "573accb7",
   "metadata": {},
   "outputs": [
    {
     "data": {
      "text/plain": [
       "44994.745658151805"
      ]
     },
     "execution_count": 151,
     "metadata": {},
     "output_type": "execute_result"
    }
   ],
   "source": [
    "df_amostragem_reservatorio['income'].mean()"
   ]
  },
  {
   "cell_type": "code",
   "execution_count": 152,
   "id": "a763fe31",
   "metadata": {},
   "outputs": [
    {
     "data": {
      "text/plain": [
       "4397.65747838094"
      ]
     },
     "execution_count": 152,
     "metadata": {},
     "output_type": "execute_result"
    }
   ],
   "source": [
    "df_amostragem_reservatorio['loan'].mean()"
   ]
  },
  {
   "cell_type": "markdown",
   "id": "ef80cff3",
   "metadata": {},
   "source": [
    "### Avaliação dos Resultados - Comparando com o dataset de origem"
   ]
  },
  {
   "cell_type": "code",
   "execution_count": 153,
   "id": "f68ea580",
   "metadata": {},
   "outputs": [
    {
     "data": {
      "text/plain": [
       "40.80755937840458"
      ]
     },
     "execution_count": 153,
     "metadata": {},
     "output_type": "execute_result"
    }
   ],
   "source": [
    "dataset['age'].mean()"
   ]
  },
  {
   "cell_type": "code",
   "execution_count": 154,
   "id": "70999e2b",
   "metadata": {},
   "outputs": [
    {
     "data": {
      "text/plain": [
       "45331.600017793244"
      ]
     },
     "execution_count": 154,
     "metadata": {},
     "output_type": "execute_result"
    }
   ],
   "source": [
    "dataset['income'].mean()"
   ]
  },
  {
   "cell_type": "code",
   "execution_count": 155,
   "id": "0ed88087",
   "metadata": {},
   "outputs": [
    {
     "data": {
      "text/plain": [
       "4444.369694688258"
      ]
     },
     "execution_count": 155,
     "metadata": {},
     "output_type": "execute_result"
    }
   ],
   "source": [
    "dataset['loan'].mean()"
   ]
  },
  {
   "cell_type": "markdown",
   "id": "bfda35a2",
   "metadata": {},
   "source": [
    "#### Anotações e Observações"
   ]
  },
  {
   "cell_type": "markdown",
   "id": "d86d6e47",
   "metadata": {},
   "source": [
    "- Para a variável 'age' o método de amostragem que mais se aproximou da origem foi o RESERVATÓRIO (40.84 para 40.80 do original)\n",
    "- Para a variável 'income' o método de amostragem que mais se aproximou da origem foi o SISTEMÁTICO (45671 para 45331 do original)\n",
    "- Para a variável 'loan' o método de amostragem que mais se aproximou da origem foi o ESTRATIFICADO (4426 para 4444 do original)\n",
    "\n",
    "| Variáveis | ***DATASET ORIGEM*** | SIMPLES | SISTEMÁTICO | GRUPOS | ESTRATIFICADO | RESERVATÓRIO |\n",
    "| :---: | :---: | :---: | :---: | :---: | :---: | :---: |\n",
    "| AGE |\t***40,80*** | 40,55 | 40,89 | 41,04 | 40,25 | 40,84 |\n",
    "| INCOME | ***45331*** | 45703 | 45671 | 44846 | 45058 | 44994 |\n",
    "| LOAN | ***4444*** | 4498 | 4503 | 4390 | 4426 | 4397 |\n",
    "| MÉDIA | ***16605,27*** | 16747,18 | 16738,30 | 16425,70 | 16508,08 | 16477,28 |\n",
    "| DESVIO/DIFERENÇA | *** | -141,91 | -133,03 | 179,58 | 97,18 | 127,98 |\n",
    "\n",
    "\n",
    "Para analisar o conjunto com  o método que melhor performou, utilizei o esquema acima, em que calculei a média geral (considerando a média de todas as variáveis individualmente) e em seguida comparando o resultado do dataset de origem em relação aos desvios obtidos entre os tipos de amostragem, de tal forma que foi possível concluir que o método de **amostragem aleatória estratificada** obteve os melhores resultados:\n",
    "| | **Dataset Origem** | **Dataset Estratificado**  |\n",
    "| :---: | :----: | :----: |\n",
    "| Age | 40.80 | 40.25 |\n",
    "| Income | 45331 | 45058 |\n",
    "| Loan | 4444 | 4397 |\n",
    "\n",
    "***Novamente ressalta-se a importância de executar maiores testagens, visto que o resultado obtido concluiu apenas com uma testagem única de random state (42)*** *\n",
    "\n",
    "*Exceto o modelo de grupos, que usei o random state 1"
   ]
  }
 ],
 "metadata": {
  "kernelspec": {
   "display_name": "Python 3 (ipykernel)",
   "language": "python",
   "name": "python3"
  },
  "language_info": {
   "codemirror_mode": {
    "name": "ipython",
    "version": 3
   },
   "file_extension": ".py",
   "mimetype": "text/x-python",
   "name": "python",
   "nbconvert_exporter": "python",
   "pygments_lexer": "ipython3",
   "version": "3.10.9"
  }
 },
 "nbformat": 4,
 "nbformat_minor": 5
}
